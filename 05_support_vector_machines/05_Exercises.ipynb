{
 "cells": [
  {
   "cell_type": "markdown",
   "metadata": {},
   "source": [
    "# 1."
   ]
  },
  {
   "cell_type": "markdown",
   "metadata": {},
   "source": [
    "Supoort Vector Machine에 기본이 되는 아이디어는 무엇인가?"
   ]
  },
  {
   "cell_type": "markdown",
   "metadata": {},
   "source": [
    "```\n",
    "답답\n",
    "```"
   ]
  },
  {
   "cell_type": "markdown",
   "metadata": {},
   "source": [
    "# 2."
   ]
  },
  {
   "cell_type": "markdown",
   "metadata": {},
   "source": [
    "Support Vector이란?"
   ]
  },
  {
   "cell_type": "markdown",
   "metadata": {},
   "source": [
    "```\n",
    "답답\n",
    "```"
   ]
  },
  {
   "cell_type": "markdown",
   "metadata": {},
   "source": [
    "# 3."
   ]
  },
  {
   "cell_type": "markdown",
   "metadata": {},
   "source": [
    "SVM을 사용하면서, 입력되는 데이터의 스케일이 왜 중요한가?"
   ]
  },
  {
   "cell_type": "markdown",
   "metadata": {},
   "source": [
    "```\n",
    "답답\n",
    "```"
   ]
  },
  {
   "cell_type": "markdown",
   "metadata": {},
   "source": [
    "# 4."
   ]
  },
  {
   "cell_type": "markdown",
   "metadata": {},
   "source": [
    "SVM 분류 모델이 인스턴스를 분류할 때 신뢰점수(Confidence Score)나 확률치로 결과를 낼 수 있는가?"
   ]
  },
  {
   "cell_type": "markdown",
   "metadata": {},
   "source": [
    "```\n",
    "답답\n",
    "```"
   ]
  },
  {
   "cell_type": "markdown",
   "metadata": {},
   "source": [
    "# 5."
   ]
  },
  {
   "cell_type": "markdown",
   "metadata": {},
   "source": [
    "수백개의 특징들과 수백만개의 인스턴스로 이루어진 학습 데이터 세트에 대해서 모델을 학습시키기 위해 SVM 문제를 원초적인 형태 혹은 이중 형태를 사용해야하는가?"
   ]
  },
  {
   "cell_type": "markdown",
   "metadata": {},
   "source": [
    "```\n",
    "답답\n",
    "```"
   ]
  },
  {
   "cell_type": "markdown",
   "metadata": {},
   "source": [
    "# 6."
   ]
  },
  {
   "cell_type": "markdown",
   "metadata": {},
   "source": [
    "RBF 커널을 사용해서 SVM 분류모델을 학습시키고자 한다. 학습 데이터를 underfitting할 것 같아 보이는데 γ(감마)값을 올려야하는가 내려야하는가. c값은 또 어떻게 해야하는가?"
   ]
  },
  {
   "cell_type": "markdown",
   "metadata": {},
   "source": [
    "```\n",
    "답답\n",
    "```"
   ]
  },
  {
   "cell_type": "markdown",
   "metadata": {},
   "source": [
    "# 7."
   ]
  },
  {
   "cell_type": "markdown",
   "metadata": {},
   "source": [
    "바로 사용이 가능한 QP solver를 사용하여 유연한 마진 선형(Soft Margin Linear) SVM 문제를 해결하기위해서 QP 파라미터 값 H,f,A,b을 어떻게 설정해야하는가? "
   ]
  },
  {
   "cell_type": "markdown",
   "metadata": {},
   "source": [
    "```\n",
    "답답\n",
    "```"
   ]
  },
  {
   "cell_type": "markdown",
   "metadata": {},
   "source": [
    "# 8."
   ]
  },
  {
   "cell_type": "markdown",
   "metadata": {},
   "source": [
    "선형적으로 나뉘어 질 수 있는 데이터 세트에 대해서 `LinearSVC`를 학습시켜보자. 그리고 같은 데이터 세트에 대해서 `SVC`와 `SGDClassifier`도 학습을 시켜보자. 이 세 모델끼리 서로 얼마나 비슷한지 한번 확인해보자"
   ]
  },
  {
   "cell_type": "markdown",
   "metadata": {},
   "source": [
    "Iris 데이터 세트를 사용해보자. Iris-Setosa와 Iris-Versicolor 클래스는 선형으로 나뉘어진다."
   ]
  },
  {
   "cell_type": "code",
   "execution_count": 1,
   "metadata": {},
   "outputs": [],
   "source": [
    "from sklearn import datasets\n",
    "\n",
    "iris = datasets.load_iris()\n",
    "X = iris[\"data\"][:, (2, 3)]  # 꽃잎 길이와 넓이\n",
    "y = iris[\"target\"]\n",
    "\n",
    "setosa_or_versicolor = (y == 0) | (y == 1)\n",
    "X = X[setosa_or_versicolor]\n",
    "y = y[setosa_or_versicolor]"
   ]
  },
  {
   "cell_type": "code",
   "execution_count": 2,
   "metadata": {},
   "outputs": [
    {
     "name": "stderr",
     "output_type": "stream",
     "text": [
      "/home/hahnz/.local/lib/python3.5/site-packages/sklearn/linear_model/stochastic_gradient.py:117: DeprecationWarning: n_iter parameter is deprecated in 0.19 and will be removed in 0.21. Use max_iter and tol instead.\n",
      "  DeprecationWarning)\n"
     ]
    },
    {
     "name": "stdout",
     "output_type": "stream",
     "text": [
      "LinearSVC:                    [ 0.28480668] [[ 1.05542422  1.09851637]]\n",
      "SVC:                          [ 0.31933577] [[ 1.1223101   1.02531081]]\n",
      "SGDClassifier(alpha=0.00200): [ 0.32] [[ 1.12293103  1.02620763]]\n"
     ]
    }
   ],
   "source": [
    "from sklearn.svm import SVC, LinearSVC\n",
    "from sklearn.linear_model import SGDClassifier\n",
    "from sklearn.preprocessing import StandardScaler\n",
    "\n",
    "C = 5\n",
    "alpha = 1 / (C * len(X))\n",
    "\n",
    "lin_clf = LinearSVC(loss=\"hinge\", C=C, random_state=42)\n",
    "svm_clf = SVC(kernel=\"linear\", C=C)\n",
    "sgd_clf = SGDClassifier(loss=\"hinge\", learning_rate=\"constant\", eta0=0.001, alpha=alpha,\n",
    "                        n_iter=100000, random_state=42)\n",
    "\n",
    "scaler = StandardScaler()\n",
    "X_scaled = scaler.fit_transform(X)\n",
    "\n",
    "lin_clf.fit(X_scaled, y)\n",
    "svm_clf.fit(X_scaled, y)\n",
    "sgd_clf.fit(X_scaled, y)\n",
    "\n",
    "print(\"LinearSVC:                   \", lin_clf.intercept_, lin_clf.coef_)\n",
    "print(\"SVC:                         \", svm_clf.intercept_, svm_clf.coef_)\n",
    "print(\"SGDClassifier(alpha={:.5f}):\".format(sgd_clf.alpha), sgd_clf.intercept_, sgd_clf.coef_)"
   ]
  },
  {
   "cell_type": "markdown",
   "metadata": {},
   "source": [
    "각각 세 개의 모델이 가지는 의사결정선을 그래프로 그려보자."
   ]
  },
  {
   "cell_type": "code",
   "execution_count": 3,
   "metadata": {},
   "outputs": [
    {
     "data": {
      "image/png": "[encoded data removed]",
      "text/plain": [
       "<matplotlib.figure.Figure at 0x7f340ee64668>"
      ]
     },
     "metadata": {},
     "output_type": "display_data"
    }
   ],
   "source": [
    "import matplotlib.pyplot as plt\n",
    "\n",
    "# Compute the slope and bias of each decision boundary\n",
    "w1 = -lin_clf.coef_[0, 0]/lin_clf.coef_[0, 1]\n",
    "b1 = -lin_clf.intercept_[0]/lin_clf.coef_[0, 1]\n",
    "w2 = -svm_clf.coef_[0, 0]/svm_clf.coef_[0, 1]\n",
    "b2 = -svm_clf.intercept_[0]/svm_clf.coef_[0, 1]\n",
    "w3 = -sgd_clf.coef_[0, 0]/sgd_clf.coef_[0, 1]\n",
    "b3 = -sgd_clf.intercept_[0]/sgd_clf.coef_[0, 1]\n",
    "\n",
    "# Transform the decision boundary lines back to the original scale\n",
    "line1 = scaler.inverse_transform([[-10, -10 * w1 + b1], [10, 10 * w1 + b1]])\n",
    "line2 = scaler.inverse_transform([[-10, -10 * w2 + b2], [10, 10 * w2 + b2]])\n",
    "line3 = scaler.inverse_transform([[-10, -10 * w3 + b3], [10, 10 * w3 + b3]])\n",
    "\n",
    "# Plot all three decision boundaries\n",
    "plt.figure(figsize=(11, 4))\n",
    "plt.plot(line1[:, 0], line1[:, 1], \"k:\", label=\"LinearSVC\")\n",
    "plt.plot(line2[:, 0], line2[:, 1], \"b--\", linewidth=2, label=\"SVC\")\n",
    "plt.plot(line3[:, 0], line3[:, 1], \"r-\", label=\"SGDClassifier\")\n",
    "plt.plot(X[:, 0][y==1], X[:, 1][y==1], \"bs\") # label=\"Iris-Versicolor\"\n",
    "plt.plot(X[:, 0][y==0], X[:, 1][y==0], \"yo\") # label=\"Iris-Setosa\"\n",
    "plt.xlabel(\"Petal length\", fontsize=14)\n",
    "plt.ylabel(\"Petal width\", fontsize=14)\n",
    "plt.legend(loc=\"upper center\", fontsize=14)\n",
    "plt.axis([0, 5.5, 0, 2])\n",
    "\n",
    "plt.show()"
   ]
  },
  {
   "cell_type": "markdown",
   "metadata": {},
   "source": [
    "꽤나 가깝다!"
   ]
  },
  {
   "cell_type": "markdown",
   "metadata": {},
   "source": [
    "# 9."
   ]
  },
  {
   "cell_type": "markdown",
   "metadata": {},
   "source": [
    "MNIST 데이터세트에 대해서 SVM 분류 모델을 학습시켜보자. SVM 분류 모델은 이항 분류 모델이기 때문에, 모든 10개 숫자를 분류하기 위해서는 일대 다 전략을 사용할 필요가 있다. 과정에 대한 속도를 올리기 위해서 작은 검증 데이터 세트를 사용해 하이퍼 파라미터를 조율하고 싶을지도 모른다. 정확도가 어떻게 되는가?"
   ]
  },
  {
   "cell_type": "markdown",
   "metadata": {},
   "source": [
    "먼저 데이터 세트를 불러오고 학습 데이터 세트와 테스트 데이터로 나누어 준다. `train_test_split()`를 사용할 수도 있지만 사람들은 보통 처음 6만장을 학습 데이터 세트로, 마지막 1만장을 테스트 데이터로 사용한다."
   ]
  },
  {
   "cell_type": "code",
   "execution_count": 4,
   "metadata": {},
   "outputs": [],
   "source": [
    "from sklearn.datasets import fetch_mldata\n",
    "\n",
    "mnist = fetch_mldata(\"MNIST original\")\n",
    "X = mnist[\"data\"]\n",
    "y = mnist[\"target\"]\n",
    "\n",
    "X_train = X[:60000]\n",
    "y_train = y[:60000]\n",
    "X_test = X[60000:]\n",
    "y_test = y[60000:]"
   ]
  },
  {
   "cell_type": "markdown",
   "metadata": {},
   "source": [
    "많은 학습 알고리즘들은 학습 인스턴스의 순서에 민감하기 때문에, 일반적으로 데이터를 먼저 섞는 연습을 하는 것이 일반적으로 좋다."
   ]
  },
  {
   "cell_type": "code",
   "execution_count": 5,
   "metadata": {},
   "outputs": [],
   "source": [
    "import numpy as np\n",
    "np.random.seed(42)\n",
    "rnd_idx = np.random.permutation(60000)\n",
    "X_train = X_train[rnd_idx]\n",
    "y_train = y_train[rnd_idx]"
   ]
  },
  {
   "cell_type": "markdown",
   "metadata": {},
   "source": [
    "이제 선형 SVM 분류모델로 시작해보자. 이는 자동으로 One-vs-All(또한 One-vs-the-Rest, OvR이라고도 불린다.) 전략을 사용할 것이기에, 우리가 특별하게 무엇을 설정해줄 필요가 없다. 매우 쉽다!"
   ]
  },
  {
   "cell_type": "code",
   "execution_count": 6,
   "metadata": {},
   "outputs": [
    {
     "data": {
      "text/plain": [
       "LinearSVC(C=1.0, class_weight=None, dual=True, fit_intercept=True,\n",
       "     intercept_scaling=1, loss='squared_hinge', max_iter=1000,\n",
       "     multi_class='ovr', penalty='l2', random_state=42, tol=0.0001,\n",
       "     verbose=0)"
      ]
     },
     "execution_count": 6,
     "metadata": {},
     "output_type": "execute_result"
    }
   ],
   "source": [
    "lin_clf = LinearSVC(random_state=42)\n",
    "lin_clf.fit(X_train, y_train)"
   ]
  },
  {
   "cell_type": "markdown",
   "metadata": {},
   "source": [
    "학습 데이터 세트를 사용해 예측을 해보고 정확도를 측정해보자. (학습된 모델중 어떤 것을 최종적으로 고를지 정하지 않았기 때문에, 아직은 테스트 데이터에 대해서 테스트할 필요는 없다.)"
   ]
  },
  {
   "cell_type": "code",
   "execution_count": 7,
   "metadata": {},
   "outputs": [
    {
     "data": {
      "text/plain": [
       "0.82633333333333336"
      ]
     },
     "execution_count": 7,
     "metadata": {},
     "output_type": "execute_result"
    }
   ],
   "source": [
    "from sklearn.metrics import accuracy_score\n",
    "\n",
    "y_pred = lin_clf.predict(X_train)\n",
    "accuracy_score(y_train, y_pred)"
   ]
  },
  {
   "cell_type": "markdown",
   "metadata": {},
   "source": [
    "MNIST 데이터로 82%의 정확도는 정말 나쁜 성능이다. 이 선형 모델은 분명히 MNIST 데이터를 분류하기에는 너무 가벼웠지만, 아마 일단 데이터를 먼저 스케일링해줄 필요가 있다."
   ]
  },
  {
   "cell_type": "code",
   "execution_count": 8,
   "metadata": {},
   "outputs": [],
   "source": [
    "scaler = StandardScaler()\n",
    "X_train_scaled = scaler.fit_transform(X_train.astype(np.float32))\n",
    "X_test_scaled = scaler.transform(X_test.astype(np.float32))"
   ]
  },
  {
   "cell_type": "code",
   "execution_count": 9,
   "metadata": {},
   "outputs": [
    {
     "data": {
      "text/plain": [
       "LinearSVC(C=1.0, class_weight=None, dual=True, fit_intercept=True,\n",
       "     intercept_scaling=1, loss='squared_hinge', max_iter=1000,\n",
       "     multi_class='ovr', penalty='l2', random_state=42, tol=0.0001,\n",
       "     verbose=0)"
      ]
     },
     "execution_count": 9,
     "metadata": {},
     "output_type": "execute_result"
    }
   ],
   "source": [
    "lin_clf = LinearSVC(random_state=42)\n",
    "lin_clf.fit(X_train_scaled, y_train)"
   ]
  },
  {
   "cell_type": "code",
   "execution_count": 10,
   "metadata": {},
   "outputs": [
    {
     "data": {
      "text/plain": [
       "0.9224"
      ]
     },
     "execution_count": 10,
     "metadata": {},
     "output_type": "execute_result"
    }
   ],
   "source": [
    "y_pred = lin_clf.predict(X_train_scaled)\n",
    "accuracy_score(y_train, y_pred)"
   ]
  },
  {
   "cell_type": "markdown",
   "metadata": {},
   "source": [
    "좀 더 나아졌지만, 여전히 MNIST 데이터 분류 성능으로써는 전혀 좋지 못하다. 만약 SVM을 사용하고 싶다면, 커널기법도 같이 쓰는 것이 좋을 것같다. 기본 커널인 RBF 커널로 `SVC`를 사용해보자.\n",
    "\n",
    "**주의**: 만약 Scikit-Learn 버전이 0.19 이하라면 `SVC`는 기본 설정 전략이 One-vs-One이므로, 대신에 OvR 전략을 사용하고 싶다면`decision_function_shape=\"ovr\"`라고 명시적으로 설정해주어야만 한다. (OvR 전략은 0.19버전 이후로 기본값 설정이 된다.)"
   ]
  },
  {
   "cell_type": "code",
   "execution_count": 11,
   "metadata": {},
   "outputs": [
    {
     "data": {
      "text/plain": [
       "SVC(C=1.0, cache_size=200, class_weight=None, coef0=0.0,\n",
       "  decision_function_shape='ovr', degree=3, gamma='auto', kernel='rbf',\n",
       "  max_iter=-1, probability=False, random_state=None, shrinking=True,\n",
       "  tol=0.001, verbose=False)"
      ]
     },
     "execution_count": 11,
     "metadata": {},
     "output_type": "execute_result"
    }
   ],
   "source": [
    "svm_clf = SVC(decision_function_shape=\"ovr\")\n",
    "svm_clf.fit(X_train_scaled[:10000], y_train[:10000])"
   ]
  },
  {
   "cell_type": "code",
   "execution_count": 12,
   "metadata": {},
   "outputs": [
    {
     "data": {
      "text/plain": [
       "0.94615000000000005"
      ]
     },
     "execution_count": 12,
     "metadata": {},
     "output_type": "execute_result"
    }
   ],
   "source": [
    "y_pred = svm_clf.predict(X_train_scaled)\n",
    "accuracy_score(y_train, y_pred)"
   ]
  },
  {
   "cell_type": "markdown",
   "metadata": {},
   "source": [
    "유망한 모델 같다. 6배나 적은 데이터로 학습시킨 모델이지만 성능이 더 좋아졌다. 교차 검증법으로 확률적 탐색을 해 하이퍼 파라미터를 조율해보자. 처리의 속도를 올리기 위해 작은 데이터 세트를 사용할 것이다."
   ]
  },
  {
   "cell_type": "code",
   "execution_count": 13,
   "metadata": {},
   "outputs": [
    {
     "name": "stdout",
     "output_type": "stream",
     "text": [
      "Fitting 3 folds for each of 10 candidates, totalling 30 fits\n",
      "[CV] gamma=0.00176607465048, C=8.85231605842 .........................\n",
      "[CV] .......... gamma=0.00176607465048, C=8.85231605842, total=   0.6s\n",
      "[CV] gamma=0.00176607465048, C=8.85231605842 .........................\n"
     ]
    },
    {
     "name": "stderr",
     "output_type": "stream",
     "text": [
      "[Parallel(n_jobs=1)]: Done   1 out of   1 | elapsed:    0.8s remaining:    0.0s\n"
     ]
    },
    {
     "name": "stdout",
     "output_type": "stream",
     "text": [
      "[CV] .......... gamma=0.00176607465048, C=8.85231605842, total=   0.6s\n",
      "[CV] gamma=0.00176607465048, C=8.85231605842 .........................\n",
      "[CV] .......... gamma=0.00176607465048, C=8.85231605842, total=   0.6s\n",
      "[CV] gamma=0.00636473705545, C=1.82719601047 .........................\n",
      "[CV] .......... gamma=0.00636473705545, C=1.82719601047, total=   0.7s\n",
      "[CV] gamma=0.00636473705545, C=1.82719601047 .........................\n",
      "[CV] .......... gamma=0.00636473705545, C=1.82719601047, total=   0.7s\n",
      "[CV] gamma=0.00636473705545, C=1.82719601047 .........................\n",
      "[CV] .......... gamma=0.00636473705545, C=1.82719601047, total=   0.7s\n",
      "[CV] gamma=0.0513498334519, C=9.87519919377 ..........................\n",
      "[CV] ........... gamma=0.0513498334519, C=9.87519919377, total=   0.7s\n",
      "[CV] gamma=0.0513498334519, C=9.87519919377 ..........................\n",
      "[CV] ........... gamma=0.0513498334519, C=9.87519919377, total=   0.7s\n",
      "[CV] gamma=0.0513498334519, C=9.87519919377 ..........................\n",
      "[CV] ........... gamma=0.0513498334519, C=9.87519919377, total=   0.7s\n",
      "[CV] gamma=0.0599166657847, C=6.59992909281 ..........................\n",
      "[CV] ........... gamma=0.0599166657847, C=6.59992909281, total=   0.7s\n",
      "[CV] gamma=0.0599166657847, C=6.59992909281 ..........................\n",
      "[CV] ........... gamma=0.0599166657847, C=6.59992909281, total=   0.7s\n",
      "[CV] gamma=0.0599166657847, C=6.59992909281 ..........................\n",
      "[CV] ........... gamma=0.0599166657847, C=6.59992909281, total=   0.7s\n",
      "[CV] gamma=0.00359649052253, C=9.05343597549 .........................\n",
      "[CV] .......... gamma=0.00359649052253, C=9.05343597549, total=   0.6s\n",
      "[CV] gamma=0.00359649052253, C=9.05343597549 .........................\n",
      "[CV] .......... gamma=0.00359649052253, C=9.05343597549, total=   0.6s\n",
      "[CV] gamma=0.00359649052253, C=9.05343597549 .........................\n",
      "[CV] .......... gamma=0.00359649052253, C=9.05343597549, total=   0.6s\n",
      "[CV] gamma=0.00400233099291, C=2.70106280446 .........................\n",
      "[CV] .......... gamma=0.00400233099291, C=2.70106280446, total=   0.6s\n",
      "[CV] gamma=0.00400233099291, C=2.70106280446 .........................\n",
      "[CV] .......... gamma=0.00400233099291, C=2.70106280446, total=   0.6s\n",
      "[CV] gamma=0.00400233099291, C=2.70106280446 .........................\n",
      "[CV] .......... gamma=0.00400233099291, C=2.70106280446, total=   0.7s\n",
      "[CV] gamma=0.0175969575075, C=3.27117878439 ..........................\n",
      "[CV] ........... gamma=0.0175969575075, C=3.27117878439, total=   0.7s\n",
      "[CV] gamma=0.0175969575075, C=3.27117878439 ..........................\n",
      "[CV] ........... gamma=0.0175969575075, C=3.27117878439, total=   0.7s\n",
      "[CV] gamma=0.0175969575075, C=3.27117878439 ..........................\n",
      "[CV] ........... gamma=0.0175969575075, C=3.27117878439, total=   0.7s\n",
      "[CV] gamma=0.0157352905643, C=6.84899112775 ..........................\n",
      "[CV] ........... gamma=0.0157352905643, C=6.84899112775, total=   0.7s\n",
      "[CV] gamma=0.0157352905643, C=6.84899112775 ..........................\n",
      "[CV] ........... gamma=0.0157352905643, C=6.84899112775, total=   0.7s\n",
      "[CV] gamma=0.0157352905643, C=6.84899112775 ..........................\n",
      "[CV] ........... gamma=0.0157352905643, C=6.84899112775, total=   0.7s\n",
      "[CV] gamma=0.0383464752611, C=2.89303536491 ..........................\n",
      "[CV] ........... gamma=0.0383464752611, C=2.89303536491, total=   0.7s\n",
      "[CV] gamma=0.0383464752611, C=2.89303536491 ..........................\n",
      "[CV] ........... gamma=0.0383464752611, C=2.89303536491, total=   0.7s\n",
      "[CV] gamma=0.0383464752611, C=2.89303536491 ..........................\n",
      "[CV] ........... gamma=0.0383464752611, C=2.89303536491, total=   0.7s\n",
      "[CV] gamma=0.0088085381726, C=5.33626083543 ..........................\n",
      "[CV] ........... gamma=0.0088085381726, C=5.33626083543, total=   0.7s\n",
      "[CV] gamma=0.0088085381726, C=5.33626083543 ..........................\n",
      "[CV] ........... gamma=0.0088085381726, C=5.33626083543, total=   0.7s\n",
      "[CV] gamma=0.0088085381726, C=5.33626083543 ..........................\n",
      "[CV] ........... gamma=0.0088085381726, C=5.33626083543, total=   0.7s\n"
     ]
    },
    {
     "name": "stderr",
     "output_type": "stream",
     "text": [
      "[Parallel(n_jobs=1)]: Done  30 out of  30 | elapsed:   28.5s finished\n"
     ]
    },
    {
     "data": {
      "text/plain": [
       "RandomizedSearchCV(cv=None, error_score='raise',\n",
       "          estimator=SVC(C=1.0, cache_size=200, class_weight=None, coef0=0.0,\n",
       "  decision_function_shape='ovr', degree=3, gamma='auto', kernel='rbf',\n",
       "  max_iter=-1, probability=False, random_state=None, shrinking=True,\n",
       "  tol=0.001, verbose=False),\n",
       "          fit_params=None, iid=True, n_iter=10, n_jobs=1,\n",
       "          param_distributions={'gamma': <scipy.stats._distn_infrastructure.rv_frozen object at 0x7f34117134a8>, 'C': <scipy.stats._distn_infrastructure.rv_frozen object at 0x7f340ee2b940>},\n",
       "          pre_dispatch='2*n_jobs', random_state=None, refit=True,\n",
       "          return_train_score='warn', scoring=None, verbose=2)"
      ]
     },
     "execution_count": 13,
     "metadata": {},
     "output_type": "execute_result"
    }
   ],
   "source": [
    "from sklearn.model_selection import RandomizedSearchCV\n",
    "from scipy.stats import reciprocal, uniform\n",
    "\n",
    "param_distributions = {\"gamma\": reciprocal(0.001, 0.1), \"C\": uniform(1, 10)}\n",
    "rnd_search_cv = RandomizedSearchCV(svm_clf, param_distributions, n_iter=10, verbose=2)\n",
    "rnd_search_cv.fit(X_train_scaled[:1000], y_train[:1000])"
   ]
  },
  {
   "cell_type": "code",
   "execution_count": 14,
   "metadata": {},
   "outputs": [
    {
     "data": {
      "text/plain": [
       "SVC(C=8.8523160584230869, cache_size=200, class_weight=None, coef0=0.0,\n",
       "  decision_function_shape='ovr', degree=3, gamma=0.001766074650481071,\n",
       "  kernel='rbf', max_iter=-1, probability=False, random_state=None,\n",
       "  shrinking=True, tol=0.001, verbose=False)"
      ]
     },
     "execution_count": 14,
     "metadata": {},
     "output_type": "execute_result"
    }
   ],
   "source": [
    "rnd_search_cv.best_estimator_"
   ]
  },
  {
   "cell_type": "code",
   "execution_count": 15,
   "metadata": {},
   "outputs": [
    {
     "data": {
      "text/plain": [
       "0.85599999999999998"
      ]
     },
     "execution_count": 15,
     "metadata": {},
     "output_type": "execute_result"
    }
   ],
   "source": [
    "rnd_search_cv.best_score_"
   ]
  },
  {
   "cell_type": "markdown",
   "metadata": {},
   "source": [
    "꽤 낮아보이지만 1000개의 인스턴스에 대해서만 학습을 시킨 모델이라는 것을 기억하자. 이제 전체 학습 데이터 세트에 대해서 재학습 시켜보자.(밤에 학습을 시켜놓고 자고 일어나 아침에 결과를 확인하자. 오래걸린다.)"
   ]
  },
  {
   "cell_type": "code",
   "execution_count": 16,
   "metadata": {},
   "outputs": [
    {
     "data": {
      "text/plain": [
       "SVC(C=8.8523160584230869, cache_size=200, class_weight=None, coef0=0.0,\n",
       "  decision_function_shape='ovr', degree=3, gamma=0.001766074650481071,\n",
       "  kernel='rbf', max_iter=-1, probability=False, random_state=None,\n",
       "  shrinking=True, tol=0.001, verbose=False)"
      ]
     },
     "execution_count": 16,
     "metadata": {},
     "output_type": "execute_result"
    }
   ],
   "source": [
    "rnd_search_cv.best_estimator_.fit(X_train_scaled, y_train)"
   ]
  },
  {
   "cell_type": "code",
   "execution_count": 17,
   "metadata": {},
   "outputs": [
    {
     "data": {
      "text/plain": [
       "0.99965000000000004"
      ]
     },
     "execution_count": 17,
     "metadata": {},
     "output_type": "execute_result"
    }
   ],
   "source": [
    "y_pred = rnd_search_cv.best_estimator_.predict(X_train_scaled)\n",
    "accuracy_score(y_train, y_pred)"
   ]
  },
  {
   "cell_type": "markdown",
   "metadata": {},
   "source": [
    "아주 좋다! 이 모델을 선택해서 사용하자 이제 테스트 데이터 세트를 사용해서 테스트를 진행해보자."
   ]
  },
  {
   "cell_type": "code",
   "execution_count": 18,
   "metadata": {},
   "outputs": [
    {
     "data": {
      "text/plain": [
       "0.97089999999999999"
      ]
     },
     "execution_count": 18,
     "metadata": {},
     "output_type": "execute_result"
    }
   ],
   "source": [
    "y_pred = rnd_search_cv.best_estimator_.predict(X_test_scaled)\n",
    "accuracy_score(y_test, y_pred)"
   ]
  },
  {
   "cell_type": "markdown",
   "metadata": {},
   "source": [
    "나쁘지 않지만, 분명히 이 학습 모델은 조금 과잉학습을 한 것같다. 조금 더 하이퍼 파라미터를 조율하는것(예: `C`랑/혹은 `gamma`를 감소시켜보기)이 솔깃하지만, 테스트 데이터 셋을 과잉학습할 위험을 가지고 있다. 다른 사람들은 하이퍼 파라미터`C=5` and `gamma=0.005`가 더 나은 성능(정확도 98% 이상)을 뽑아낸다는 것을 알아냈다. 더 거대하고 긴 학습 데이터 세트에 대해서 확률적 탐색을 하는 것으로 이를 더 잘 찾아줄 수 있을지 모른다."
   ]
  },
  {
   "cell_type": "markdown",
   "metadata": {},
   "source": [
    "## 10."
   ]
  },
  {
   "cell_type": "markdown",
   "metadata": {},
   "source": [
    "캘리포니아 하우징 데이터 세트에 대해서 SVM 회귀 모델을 학습시켜보자"
   ]
  },
  {
   "cell_type": "markdown",
   "metadata": {},
   "source": [
    "Scikit-Learn의 `fetch_california_housing()` 함수를 사용해서 데이터 세트를 불러오자."
   ]
  },
  {
   "cell_type": "code",
   "execution_count": 19,
   "metadata": {},
   "outputs": [
    {
     "name": "stderr",
     "output_type": "stream",
     "text": [
      "Downloading Cal. housing from https://ndownloader.figshare.com/files/5976036 to /home/hahnz/scikit_learn_data\n"
     ]
    }
   ],
   "source": [
    "from sklearn.datasets import fetch_california_housing\n",
    "\n",
    "housing = fetch_california_housing()\n",
    "X = housing[\"data\"]\n",
    "y = housing[\"target\"]"
   ]
  },
  {
   "cell_type": "markdown",
   "metadata": {},
   "source": [
    "학습 데이터와 테스트 데이터 세트로 나누자."
   ]
  },
  {
   "cell_type": "code",
   "execution_count": 20,
   "metadata": {},
   "outputs": [],
   "source": [
    "from sklearn.model_selection import train_test_split\n",
    "\n",
    "X_train, X_test, y_train, y_test = train_test_split(X, y, test_size=0.2, random_state=42)"
   ]
  },
  {
   "cell_type": "markdown",
   "metadata": {},
   "source": [
    "데이터 스케일링도 잊지말고 해주자."
   ]
  },
  {
   "cell_type": "code",
   "execution_count": 21,
   "metadata": {},
   "outputs": [],
   "source": [
    "from sklearn.preprocessing import StandardScaler\n",
    "\n",
    "scaler = StandardScaler()\n",
    "X_train_scaled = scaler.fit_transform(X_train)\n",
    "X_test_scaled = scaler.transform(X_test)"
   ]
  },
  {
   "cell_type": "markdown",
   "metadata": {},
   "source": [
    "먼저 간단하게 `LinearSVR`로 학습을 시켜보자:"
   ]
  },
  {
   "cell_type": "code",
   "execution_count": 22,
   "metadata": {},
   "outputs": [
    {
     "data": {
      "text/plain": [
       "LinearSVR(C=1.0, dual=True, epsilon=0.0, fit_intercept=True,\n",
       "     intercept_scaling=1.0, loss='epsilon_insensitive', max_iter=1000,\n",
       "     random_state=42, tol=0.0001, verbose=0)"
      ]
     },
     "execution_count": 22,
     "metadata": {},
     "output_type": "execute_result"
    }
   ],
   "source": [
    "from sklearn.svm import LinearSVR\n",
    "\n",
    "lin_svr = LinearSVR(random_state=42)\n",
    "lin_svr.fit(X_train_scaled, y_train)"
   ]
  },
  {
   "cell_type": "markdown",
   "metadata": {},
   "source": [
    "이제 학습 데이터에 대한 성능을 확인해보자."
   ]
  },
  {
   "cell_type": "code",
   "execution_count": 23,
   "metadata": {},
   "outputs": [
    {
     "data": {
      "text/plain": [
       "0.949968822217229"
      ]
     },
     "execution_count": 23,
     "metadata": {},
     "output_type": "execute_result"
    }
   ],
   "source": [
    "from sklearn.metrics import mean_squared_error\n",
    "\n",
    "y_pred = lin_svr.predict(X_train_scaled)\n",
    "mse = mean_squared_error(y_train, y_pred)\n",
    "mse"
   ]
  },
  {
   "cell_type": "markdown",
   "metadata": {},
   "source": [
    "RMSE도 살펴보자"
   ]
  },
  {
   "cell_type": "code",
   "execution_count": 24,
   "metadata": {},
   "outputs": [
    {
     "data": {
      "text/plain": [
       "0.97466344048457521"
      ]
     },
     "execution_count": 24,
     "metadata": {},
     "output_type": "execute_result"
    }
   ],
   "source": [
    "np.sqrt(mse)"
   ]
  },
  {
   "cell_type": "markdown",
   "metadata": {},
   "source": [
    "이 학습 데이터 세트에서 목표층은 수만 달러이다. RMSE는 우리가 기대한 (큰 에러치들에 대해서는 더 높은 가중치를 가지는) 에러의 종류에 대한 대강의 개념을 준다. 그래서 이 모델로 우리는 대략 1만 달러 쯤의 에러를 기대할 수 있다. 좋지않다. RBF 커널을 사용하면 좀 더 좋아지는지 확인해보자. 하이퍼 파라미터 `C`와 `gamma`에 대한 적절한 값을 찾아주기 위해 교차 검증법으로 확률적 탐색을 사용해볼 것이다."
   ]
  },
  {
   "cell_type": "code",
   "execution_count": 25,
   "metadata": {},
   "outputs": [
    {
     "name": "stdout",
     "output_type": "stream",
     "text": [
      "Fitting 3 folds for each of 10 candidates, totalling 30 fits\n",
      "[CV] gamma=0.0796945481864, C=4.74540118847 ..........................\n",
      "[CV] ........... gamma=0.0796945481864, C=4.74540118847, total=   6.9s\n",
      "[CV] gamma=0.0796945481864, C=4.74540118847 ..........................\n"
     ]
    },
    {
     "name": "stderr",
     "output_type": "stream",
     "text": [
      "[Parallel(n_jobs=1)]: Done   1 out of   1 | elapsed:    9.1s remaining:    0.0s\n"
     ]
    },
    {
     "name": "stdout",
     "output_type": "stream",
     "text": [
      "[CV] ........... gamma=0.0796945481864, C=4.74540118847, total=   6.8s\n",
      "[CV] gamma=0.0796945481864, C=4.74540118847 ..........................\n",
      "[CV] ........... gamma=0.0796945481864, C=4.74540118847, total=   6.9s\n",
      "[CV] gamma=0.0157513204998, C=8.31993941811 ..........................\n",
      "[CV] ........... gamma=0.0157513204998, C=8.31993941811, total=   6.5s\n",
      "[CV] gamma=0.0157513204998, C=8.31993941811 ..........................\n",
      "[CV] ........... gamma=0.0157513204998, C=8.31993941811, total=   6.3s\n",
      "[CV] gamma=0.0157513204998, C=8.31993941811 ..........................\n",
      "[CV] ........... gamma=0.0157513204998, C=8.31993941811, total=   6.4s\n",
      "[CV] gamma=0.00205111041884, C=2.56018640442 .........................\n",
      "[CV] .......... gamma=0.00205111041884, C=2.56018640442, total=   5.9s\n",
      "[CV] gamma=0.00205111041884, C=2.56018640442 .........................\n",
      "[CV] .......... gamma=0.00205111041884, C=2.56018640442, total=   5.9s\n",
      "[CV] gamma=0.00205111041884, C=2.56018640442 .........................\n",
      "[CV] .......... gamma=0.00205111041884, C=2.56018640442, total=   5.9s\n",
      "[CV] gamma=0.0539948440979, C=1.58083612168 ..........................\n",
      "[CV] ........... gamma=0.0539948440979, C=1.58083612168, total=   5.9s\n",
      "[CV] gamma=0.0539948440979, C=1.58083612168 ..........................\n",
      "[CV] ........... gamma=0.0539948440979, C=1.58083612168, total=   5.9s\n",
      "[CV] gamma=0.0539948440979, C=1.58083612168 ..........................\n",
      "[CV] ........... gamma=0.0539948440979, C=1.58083612168, total=   5.9s\n",
      "[CV] gamma=0.0260702475837, C=7.01115011743 ..........................\n",
      "[CV] ........... gamma=0.0260702475837, C=7.01115011743, total=   6.4s\n",
      "[CV] gamma=0.0260702475837, C=7.01115011743 ..........................\n",
      "[CV] ........... gamma=0.0260702475837, C=7.01115011743, total=   6.5s\n",
      "[CV] gamma=0.0260702475837, C=7.01115011743 ..........................\n",
      "[CV] ........... gamma=0.0260702475837, C=7.01115011743, total=   6.5s\n",
      "[CV] gamma=0.087060208783, C=1.20584494296 ...........................\n",
      "[CV] ............ gamma=0.087060208783, C=1.20584494296, total=   5.8s\n",
      "[CV] gamma=0.087060208783, C=1.20584494296 ...........................\n",
      "[CV] ............ gamma=0.087060208783, C=1.20584494296, total=   5.9s\n",
      "[CV] gamma=0.087060208783, C=1.20584494296 ...........................\n",
      "[CV] ............ gamma=0.087060208783, C=1.20584494296, total=   5.8s\n",
      "[CV] gamma=0.00265875439833, C=9.324426408 ...........................\n",
      "[CV] ............ gamma=0.00265875439833, C=9.324426408, total=   6.1s\n",
      "[CV] gamma=0.00265875439833, C=9.324426408 ...........................\n",
      "[CV] ............ gamma=0.00265875439833, C=9.324426408, total=   6.1s\n",
      "[CV] gamma=0.00265875439833, C=9.324426408 ...........................\n",
      "[CV] ............ gamma=0.00265875439833, C=9.324426408, total=   6.0s\n",
      "[CV] gamma=0.00232706770838, C=2.81824967207 .........................\n",
      "[CV] .......... gamma=0.00232706770838, C=2.81824967207, total=   5.9s\n",
      "[CV] gamma=0.00232706770838, C=2.81824967207 .........................\n",
      "[CV] .......... gamma=0.00232706770838, C=2.81824967207, total=   5.9s\n",
      "[CV] gamma=0.00232706770838, C=2.81824967207 .........................\n",
      "[CV] .......... gamma=0.00232706770838, C=2.81824967207, total=   5.9s\n",
      "[CV] gamma=0.0112076062119, C=4.0424224296 ...........................\n",
      "[CV] ............ gamma=0.0112076062119, C=4.0424224296, total=   6.0s\n",
      "[CV] gamma=0.0112076062119, C=4.0424224296 ...........................\n",
      "[CV] ............ gamma=0.0112076062119, C=4.0424224296, total=   6.0s\n",
      "[CV] gamma=0.0112076062119, C=4.0424224296 ...........................\n",
      "[CV] ............ gamma=0.0112076062119, C=4.0424224296, total=   6.0s\n",
      "[CV] gamma=0.00382347522468, C=5.31945018642 .........................\n",
      "[CV] .......... gamma=0.00382347522468, C=5.31945018642, total=   5.9s\n",
      "[CV] gamma=0.00382347522468, C=5.31945018642 .........................\n",
      "[CV] .......... gamma=0.00382347522468, C=5.31945018642, total=   6.0s\n",
      "[CV] gamma=0.00382347522468, C=5.31945018642 .........................\n",
      "[CV] .......... gamma=0.00382347522468, C=5.31945018642, total=   6.0s\n"
     ]
    },
    {
     "name": "stderr",
     "output_type": "stream",
     "text": [
      "[Parallel(n_jobs=1)]: Done  30 out of  30 | elapsed:  4.2min finished\n"
     ]
    },
    {
     "data": {
      "text/plain": [
       "RandomizedSearchCV(cv=None, error_score='raise',\n",
       "          estimator=SVR(C=1.0, cache_size=200, coef0=0.0, degree=3, epsilon=0.1, gamma='auto',\n",
       "  kernel='rbf', max_iter=-1, shrinking=True, tol=0.001, verbose=False),\n",
       "          fit_params=None, iid=True, n_iter=10, n_jobs=1,\n",
       "          param_distributions={'gamma': <scipy.stats._distn_infrastructure.rv_frozen object at 0x7f340aae4be0>, 'C': <scipy.stats._distn_infrastructure.rv_frozen object at 0x7f340aae4e80>},\n",
       "          pre_dispatch='2*n_jobs', random_state=42, refit=True,\n",
       "          return_train_score='warn', scoring=None, verbose=2)"
      ]
     },
     "execution_count": 25,
     "metadata": {},
     "output_type": "execute_result"
    }
   ],
   "source": [
    "from sklearn.svm import SVR\n",
    "from sklearn.model_selection import RandomizedSearchCV\n",
    "from scipy.stats import reciprocal, uniform\n",
    "\n",
    "param_distributions = {\"gamma\": reciprocal(0.001, 0.1), \"C\": uniform(1, 10)}\n",
    "rnd_search_cv = RandomizedSearchCV(SVR(), param_distributions, n_iter=10, verbose=2, random_state=42)\n",
    "rnd_search_cv.fit(X_train_scaled, y_train)"
   ]
  },
  {
   "cell_type": "code",
   "execution_count": 26,
   "metadata": {},
   "outputs": [
    {
     "data": {
      "text/plain": [
       "SVR(C=4.7454011884736254, cache_size=200, coef0=0.0, degree=3, epsilon=0.1,\n",
       "  gamma=0.079694548186439285, kernel='rbf', max_iter=-1, shrinking=True,\n",
       "  tol=0.001, verbose=False)"
      ]
     },
     "execution_count": 26,
     "metadata": {},
     "output_type": "execute_result"
    }
   ],
   "source": [
    "rnd_search_cv.best_estimator_"
   ]
  },
  {
   "cell_type": "markdown",
   "metadata": {},
   "source": [
    "이제 학습 데이터 세트에 대한 RMSE를 측정해보자."
   ]
  },
  {
   "cell_type": "code",
   "execution_count": 27,
   "metadata": {},
   "outputs": [
    {
     "data": {
      "text/plain": [
       "0.5727524770785356"
      ]
     },
     "execution_count": 27,
     "metadata": {},
     "output_type": "execute_result"
    }
   ],
   "source": [
    "y_pred = rnd_search_cv.best_estimator_.predict(X_train_scaled)\n",
    "mse = mean_squared_error(y_train, y_pred)\n",
    "np.sqrt(mse)"
   ]
  },
  {
   "cell_type": "markdown",
   "metadata": {},
   "source": [
    "선형 모델보다 좀 더 좋아보인다. 이제 이 모델을 선택해서 테스트 데이터 세트에 대한 평가를 해보자."
   ]
  },
  {
   "cell_type": "code",
   "execution_count": 28,
   "metadata": {
    "scrolled": true
   },
   "outputs": [
    {
     "data": {
      "text/plain": [
       "0.59291683855287403"
      ]
     },
     "execution_count": 28,
     "metadata": {},
     "output_type": "execute_result"
    }
   ],
   "source": [
    "y_pred = rnd_search_cv.best_estimator_.predict(X_test_scaled)\n",
    "mse = mean_squared_error(y_test, y_pred)\n",
    "np.sqrt(mse)"
   ]
  }
 ],
 "metadata": {
  "kernelspec": {
   "display_name": "Python 3",
   "language": "python",
   "name": "python3"
  },
  "language_info": {
   "codemirror_mode": {
    "name": "ipython",
    "version": 3
   },
   "file_extension": ".py",
   "mimetype": "text/x-python",
   "name": "python",
   "nbconvert_exporter": "python",
   "pygments_lexer": "ipython3",
   "version": "3.5.2"
  }
 },
 "nbformat": 4,
 "nbformat_minor": 2
}
