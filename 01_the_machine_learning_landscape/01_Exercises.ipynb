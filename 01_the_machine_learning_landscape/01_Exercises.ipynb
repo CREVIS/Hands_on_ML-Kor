{
 "cells": [
  {
   "cell_type": "markdown",
   "metadata": {},
   "source": [
    "# Chapter 1. Exercises\n",
    "이 Chapter에서 우리는 기계학습에서 아주 중요한 개념들을 배웠다. 다음 Chapter에서는 좀 더 깊은 곳에 뛰어들 것이고 좀 더 많은 코드들을 써볼 것이다. 하지만 그전에, 다음에 대한 질문을 할 수 있는지 확실히하고 지나가자!"
   ]
  },
  {
   "cell_type": "markdown",
   "metadata": {},
   "source": [
    "**1. 기계학습을 정의하라**\n",
    "\n"
   ]
  },
  {
   "cell_type": "markdown",
   "metadata": {},
   "source": [
    "**2. 기계학습이 빛을 발하는 4가지 종류를 적어보자.**"
   ]
  },
  {
   "cell_type": "markdown",
   "metadata": {},
   "source": [
    "**3. 레이블된 학습데이터셋이란 무엇인가?**"
   ]
  },
  {
   "cell_type": "markdown",
   "metadata": {},
   "source": [
    "**4. 지도학습의 주된 일 두가지가 무엇인가?**"
   ]
  },
  {
   "cell_type": "markdown",
   "metadata": {},
   "source": [
    "**5. 비지도학습의 주된 일 두가지가 무엇인가?**"
   ]
  },
  {
   "cell_type": "markdown",
   "metadata": {},
   "source": [
    "**6. 다양한 환경에서 기계가 모르는 지형을 걷도록 할려면 어던 기계학습 알고리즘을 사용해야하는가?**"
   ]
  },
  {
   "cell_type": "markdown",
   "metadata": {},
   "source": [
    "**7. 만약 고객들을 여러가지 집단으로 나누어야 한다면 어떤 종류의 알고리즘을 사용해야할까?**"
   ]
  },
  {
   "cell_type": "markdown",
   "metadata": {},
   "source": [
    "**8. 스팸 탐지 문제를 지도학습 문제로써 정의할 수 있는가? 그러면 비지도 학습 문제로는 어떻게 정의할 수 있는가?**"
   ]
  },
  {
   "cell_type": "markdown",
   "metadata": {},
   "source": [
    "**9. 실시간 학습(Online Learning) 시스템이란 무엇인가?**"
   ]
  },
  {
   "cell_type": "markdown",
   "metadata": {},
   "source": [
    "**10. 메모리 초과 학습 (Out-core-learning)이란 무엇인가?**"
   ]
  },
  {
   "cell_type": "markdown",
   "metadata": {},
   "source": [
    "**11. 유사도 측정법을 사용해서 예측을 하는 학습알고리즘의 종류는 무엇인가?**"
   ]
  },
  {
   "cell_type": "markdown",
   "metadata": {},
   "source": [
    "**12. 모델 파라미터와 학습 알고리즘의 하이퍼파라미터 차이는 무엇인가?**"
   ]
  },
  {
   "cell_type": "markdown",
   "metadata": {},
   "source": [
    "**13. 모델 기반 학습 알고리즘은 무엇을 찾아가는가? 어떠한 전략을 사용하는가? 또한 어떻게 예측을 내리는가?**"
   ]
  },
  {
   "cell_type": "markdown",
   "metadata": {},
   "source": [
    "**14. 기계학습에서 주된 도전 4가지의 이름을 적어보아라.**"
   ]
  },
  {
   "cell_type": "markdown",
   "metadata": {},
   "source": [
    "**15. 학습 모델이 학습 데이터상의 수행에서는 잘하지만 새로운 경우에 대해서는 일반화를 잘하지 못한다면 어떻게 된 일인 것인가? 가능한 세가지의 솔루션 이름을 적어보아라.**"
   ]
  },
  {
   "cell_type": "markdown",
   "metadata": {},
   "source": [
    "**16. Test set은 무엇인가? 왜 사용하는가?**"
   ]
  },
  {
   "cell_type": "markdown",
   "metadata": {},
   "source": [
    "**17. Validation set의 목적은 무엇인가?**"
   ]
  },
  {
   "cell_type": "markdown",
   "metadata": {},
   "source": [
    "**18. Test set을 사용해서 하이퍼 파라미터를 조율하면 무엇이 잘못되는가?**"
   ]
  },
  {
   "cell_type": "markdown",
   "metadata": {},
   "source": [
    "**19. Cross-validation은 무엇인가? 왜 Validation set을 사용하기를 선호하는가?**"
   ]
  }
 ],
 "metadata": {
  "kernelspec": {
   "display_name": "Python 3",
   "language": "python",
   "name": "python3"
  },
  "language_info": {
   "codemirror_mode": {
    "name": "ipython",
    "version": 2
   },
   "file_extension": ".py",
   "mimetype": "text/x-python",
   "name": "python",
   "nbconvert_exporter": "python",
   "pygments_lexer": "ipython2",
   "version": "2.7.10"
  }
 },
 "nbformat": 4,
 "nbformat_minor": 2
}
